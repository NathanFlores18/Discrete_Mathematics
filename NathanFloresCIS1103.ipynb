{
 "cells": [
  {
   "cell_type": "markdown",
   "metadata": {},
   "source": [
    "# **Proving Identities**"
   ]
  },
  {
   "cell_type": "markdown",
   "metadata": {},
   "source": [
    "# 1.Given: A and B are sets, $\\exists$  x such that $(x \\in A \\land x \\in B)$.\n",
    "\n",
    "We want to prove: $(A \\setminus B = A \\cap B^c)$.\n"
   ]
  },
  {
   "cell_type": "markdown",
   "metadata": {},
   "source": [
    "**Left side  proof:**\n",
    "\n",
    "We aim to show that elements in $(A\\setminus B)$ are also in $(A \\cap B^c)$,.\n",
    "\n",
    "Let (x) be an element in $(A\\setminus B)$.\n",
    "Since (x) is in (A), it is also in $(A \\cap B^c)$, as (x) is in $(B^c)$.\n",
    "Therefore, all elements in $(A\\setminus B)$ are in $(A \\cap B^c)$, establishing $(A\\setminus B \\subseteq A \\cap B^c)$.\n",
    "\n",
    "**Right side proof:**\n",
    "\n",
    "We want to show that elements in $(A \\cap B^c)$ are also in $(A\\setminus B)$.\n",
    "\n",
    "Let (y) be an element in $(A \\cap B^c)$.\n",
    "Since (y) is in (A) and not in (B), it fulfills the condition to be in $(A\\setminus B)$.\n",
    "Hence, all elements in $(A \\cap B^c)$ are in $(A\\setminus B)$, leading to $(A \\cap B^c \\subseteq A\\setminus B)$.\n",
    "\n",
    "By proving both inclusions, we conclude that $(A\\setminus B = A \\cap B^c)$."
   ]
  },
  {
   "cell_type": "markdown",
   "metadata": {},
   "source": [
    "# 2.Given: (A) and (B) are sets, $(\\exists x)$ such that $(x \\in A \\land x \\in B)$.\n",
    "\n",
    "we'll need to show that each set is a subset of the other.\n",
    "\n",
    "**Proof:**\n",
    "\n",
    "We want to prove $(B = (B \\cap A) \\cup (B \\cap A^c)$)"
   ]
  },
  {
   "cell_type": "markdown",
   "metadata": {},
   "source": [
    "\n",
    "\n",
    "**Left-to-Right Inclusion:** $(B \\subseteq (B \\cap A) \\cup (B \\cap A^c))$\n",
    "\n",
    "Let \\(x\\) be an arbitrary element in \\(B\\). Since $(x \\in A)$ and $(x \\in B)$, $(x \\in B \\cap A)$. Therefore, (x) is also in $((B \\cap A) \\cup (B \\cap A^c))$. Thus, $(B \\subseteq (B \\cap A) \\cup (B \\cap A^c))$.\n",
    "\n",
    "**Right-to-Left Inclusion:** $((B \\cap A) \\cup (B \\cap A^c) \\subseteq B)$\n",
    "\n",
    "Let (y) be an arbitrary element in $((B \\cap A) \\cup (B \\cap A^c))$.\n",
    "\n",
    "If $(y \\in B \\cap A)$, then (y) is in (B) as well.\n",
    "\n",
    " If $(y \\in B \\cap A^c)$, then \\(y\\) is in \\(B\\) by definition.\n",
    "\n",
    " $(y \\in B)$, which proves $((B \\cap A) \\cup (B \\cap A^c) \\subseteq B)$.\n",
    "\n",
    "Since we've shown both inclusions, we conclude that $(B = (B \\cap A) \\cup (B \\cap A^c))$. This completes the proof."
   ]
  },
  {
   "cell_type": "markdown",
   "metadata": {},
   "source": [
    "# 3.Given: \\(A\\) and \\(B\\) are sets, $(\\exists x)$ such that $((x \\in A \\land x \\in B))$. We want to prove that \n",
    "$B∖A=B\\cap A^c$ Of course, let's simplify the proof:\n",
    "\n",
    "**Proof:**\n",
    "\n",
    "We want to prove that $(B \\setminus A = B \\cap A^c)$.\n",
    "\n",
    "**Left-to-Right Inclusion $((B \\setminus A \\subseteq B \\cap A^c))$:**\n",
    "\n",
    "Let \\(x\\) be an arbitrary element in \\(B \\setminus A\\), which means \\(x\\) is in \\(B\\) but not in \\(A\\). Since $(\\exists x (x \\in A \\land x \\in B))$, there must be an element \\(x\\) that belongs to both \\(A\\) and \\(B\\). However, this cannot be the same \\(x\\) as in $(B \\setminus A)$ because it's not in \\(A\\). Hence, \\(x\\) is an element of $(B \\cap A^c)$, showing that $(B \\setminus A \\subseteq B \\cap A^c)$.\n",
    "\n",
    "**Right-to-Left Inclusion $((B \\cap A^c \\subseteq B \\setminus A))$:**\n",
    "\n",
    "Let \\(y\\) be an arbitrary element in $(B \\cap A^c)$, which means \\(y\\) is in \\(B\\) and not in \\(A\\). As \\(y\\) is in \\(B\\) and not in \\(A\\), it fulfills the criteria for $(B \\setminus A)$. Therefore, \\(y\\) is also an element of $(B \\setminus A)$, demonstrating that $(B \\cap A^c \\subseteq B \\setminus A)$.\n",
    "\n",
    "Since we've established both inclusions, $(B \\setminus A = B \\cap A^c)$.\n"
   ]
  },
  {
   "cell_type": "markdown",
   "metadata": {},
   "source": [
    "# 4. Given: (A) and (B) are sets, $(\\exists x)$ such that $((x \\in A \\land x \\in B))$. \n",
    " We want to prove that $A\\cup B = A\\cup (B\\cap A^c)$\n",
    "\n",
    "To prove that $(A \\cup B = A \\cup (B \\cap A^c))$\n",
    "\n",
    "**Left Side:**\n",
    "\n",
    "We want to show that \\(A \\cup B \\subseteq A \\cup (B \\cap A^c)\\).\n",
    "\n",
    "Let \\(x\\) be an arbitrary element in $(A \\cup B)$. This means that \\(x\\) is in either set \\(A\\) or set \\(B\\).\n",
    "\n",
    "If \\(x\\) is in set \\(A\\), then it is also in $(A \\cup (B \\cap A^c))$ because \\(x\\) is in \\(A\\).\n",
    "\n",
    "If \\(x\\) is in set \\(B\\), we need to consider two cases:\n",
    "\n",
    "If \\(x\\) is also in set \\(A\\), then it is in $(B \\cap A^c)$, and therefore in \\(A \\cup (B \\cap A^c)\\).\n",
    "\n",
    "If \\(x\\) is not in set \\(A\\) (i.e., \\(x\\) is in \\(B\\) but not in \\(A\\)), then it is in $(B \\cap A^c)$, and therefore in $(A \\cup (B \\cap A^c))$.\n",
    "\n",
    "Since \\(x\\) belongs to $(A \\cup B)$ in all cases, we have shown that $(A \\cup B \\subseteq A \\cup (B \\cap A^c))$.\n",
    "\n",
    "**Right Side:**\n",
    "\n",
    "We want to show that $(A \\cup (B \\cap A^c) \\subseteq A \\cup B)$.\n",
    "\n",
    "Let \\(y\\) be an arbitrary element in $(A \\cup (B \\cap A^c))$. This means that \\(y\\) is in either set \\(A\\) or in the intersection of sets \\(B\\) and $(A^c)$.\n",
    "\n",
    "If \\(y\\) is in set \\(A\\), then it is in \\(A \\cup B\\) because \\(y\\) is in \\(A\\).\n",
    "\n",
    "f \\(y\\) is in the intersection of sets \\(B\\) and $(A^c)$, then it is in set \\(B\\) (since it's in the intersection) and not in \\(A\\) (since it's in $(A^c)$). Therefore, \\(y\\) is in $(A \\cup B)$.\n",
    "\n",
    "In both cases, \\(y\\) belongs to $(A \\cup B)$. Thus, we have shown that $(A \\cup (B \\cap A^c) \\subseteq A \\cup B)$.\n",
    "\n",
    "We can conclude that $(A \\cup B = A \\cup (B \\cap A^c))$.\n"
   ]
  },
  {
   "cell_type": "markdown",
   "metadata": {},
   "source": [
    "# 5. Given: (A) and (B) are sets, $(\\exists x)$ such that $((x \\in A \\land x \\in B))$. \n",
    "\n",
    "We want to prove that $(\\cup^\\infty_{i=1}A^c_i)^c$= $(\\cap^\\infty_{i=1}A^c_i)$\n",
    "\n",
    "**Left-hand side $(((\\cup^\\infty_{i=1}A^c_i)^c))$:**\n",
    "\n",
    "The complement of the union of the complements of sets $(A^c_i)$.\n",
    "\n",
    "**Right-hand side $(((\\cap^\\infty_{i=1}A^c_i)))$:**\n",
    "\n",
    "This represents the intersection of all complements of sets \\(A^c_i\\).\n",
    "\n",
    "An element \\(x\\) is in $((\\cup^\\infty_{i=1}A^c_i)^c)$ if and only if it is not in the union of complements, which means it is not in at least one of the complements $(A^c_i)$.\n",
    "\n",
    "An element \\(x\\) is in $(\\cap^\\infty_{i=1}A^c_i)$ if and only if it is in the intersection of all complements, which means it is not in any of the complements $(A^c_i)$.\n",
    "\n",
    "If \\(x\\) is not in at least one of the complements $(A^c_i)$, then it is not in any of the complements $(A^c_i)$.\n",
    "\n",
    "if \\(x\\) is not in any of the complements $(A^c_i)$, then it is not in at least one of the complements $(A^c_i)$.\n",
    "\n",
    "Therefore, the two sides are equal:\n",
    "\n",
    "$[(\\cup^\\infty_{i=1}A^c_i)^c = (\\cap^\\infty_{i=1}A^c_i)]$"
   ]
  },
  {
   "cell_type": "markdown",
   "metadata": {},
   "source": [
    "# 6. Given: (A) and (B) are sets, $(\\exists x)$ such that $((x \\in A \\land x \\in B))$. \n",
    "\n",
    "We want to prove that $|A\\cup B| = |A| + |B| -|A\\cap B|$\n",
    "\n",
    "\n",
    "**Proof:**\n",
    "\n",
    "**Left Side:**\n",
    "\n",
    "$(|A \\cup B|)$, represents the number of unique elements in the union of sets A and B.\n",
    "\n",
    "**RHS (Right-Hand Side):**\n",
    "\n",
    "The right-hand side consists of three components:\n",
    "\n",
    "1. $(|A|)$ represents the number of elements in set A.\n",
    "2. $(|B|)$ represents the number of elements in set B.\n",
    "3. $(- |A \\cap B|)$ subtracts the number of elements that are in both A and B to correct for double-counting.\n",
    "\n",
    "\\[|A| + |B| - |A \\cap B|\\]\n",
    "\n",
    "\n",
    "To prove the equation, \n",
    "\n",
    "$(|A \\cup B|)$\n",
    "\n",
    "$(|A| + |B| - |A \\cap B|)$\n",
    "\n",
    "Since LHS represents the number of unique elements in the union of sets A and B, and RHS correctly computes the number of elements in A, the number of elements in B, and subtracts the double-counted elements in $(A \\cap B)$, we can conclude that both side equals:\n",
    "\n",
    "\n"
   ]
  },
  {
   "cell_type": "markdown",
   "metadata": {},
   "source": [
    "# **Sets and Subsets**"
   ]
  },
  {
   "cell_type": "markdown",
   "metadata": {},
   "source": [
    "# 1. If A = {2,3,4,5}, and B = {x \\in \\N | x is even}. Is A \\subset B?.\n",
    "\n",
    "\n",
    "To determine if \\(A\\) is a subset of \\(B\\), we need to check if every element in set \\(A\\) is also in set \\(B\\). In this case, $(A = \\{2, 3, 4, 5\\})$ and $(B = \\{x \\in \\mathbb{N} \\, | \\, x \\text{ is even}\\})$.\n",
    "\n",
    "Let's go through each element of \\(A\\) and see if it is in \\(B\\):\n",
    "\n",
    "1. \\(2\\) is in \\(A\\) and also in \\(B\\) because it's an even number.\n",
    "2. \\(3\\) is in \\(A\\) but not in \\(B\\) because it's an odd number.\n",
    "3. \\(4\\) is in \\(A\\) and also in \\(B\\) because it's an even number.\n",
    "4. \\(5\\) is in \\(A\\) but not in \\(B\\) because it's an odd number.\n",
    "\n",
    "Since not every element in \\(A\\) is in \\(B\\), we can conclude that \\(A\\) is not a subset of \\(B\\).\n",
    "\n",
    "In set notation:\n",
    "\n",
    "$[A \\not\\subset B]$"
   ]
  },
  {
   "cell_type": "markdown",
   "metadata": {},
   "source": [
    "# Problem 2:\n",
    "\n",
    "\\(X\\) and \\(B\\) are disjoint.\n",
    "\n",
    "\\(X\\) is a subset of \\(D\\).\n",
    "\n",
    "\\(X\\) is a subset of \\(A\\) but not a subset of \\(C\\).\n",
    "\n",
    "The set \\(B\\) is \\(\\{2, 4, 6, 8\\}\\), and the set \\(D\\) is \\(\\{3, 4, 5\\}\\).\n",
    "\n",
    "\\(X\\) satisfies all three conditions is:\n",
    "\n",
    "\\[X = \\{4, 5\\}\\]\n",
    "\n",
    "**Proof**\n",
    "\n",
    "\\(X\\) and \\(B\\) are disjoint because they have no elements in common.\n",
    "\n",
    "\\(X\\) is a subset of \\(D\\) because it contains the elements 4 and 5, which are in \\(D\\) ({3, 4, 5}).\n",
    "\n",
    "(X\\) is a subset of \\(A\\) because it contains elements from \\(A\\) ({0, 1, 2, 3, 4, 5, 6, 7, 8, 9}). However, \\(X\\) is not a subset of \\(C\\) because it does not contain any elements from \\(C\\) ({1, 3, 5, 7, 9}).\n",
    "\n",
    "So, $(X = \\{4, 5\\})$ satisfies all three conditions."
   ]
  },
  {
   "cell_type": "markdown",
   "metadata": {},
   "source": [
    "# **Set Operations**"
   ]
  },
  {
   "cell_type": "markdown",
   "metadata": {},
   "source": [
    "**Given:**\n",
    "**U = {1,2,3,4,5}**\n",
    "**A = {1,2,3,4,5}**\n",
    "**B = {4,5,6,7}**\n",
    "**C = {5,6,7,8,9}**\n",
    "**D = {1,3,5,7,9}**\n",
    "**E = {2,4,6,8}**\n",
    "**F = {1,5,9}**\n",
    "\n",
    "**First Problem:**\n",
    "\n",
    "**$C\\oplus D$**\n",
    "\n",
    "**Solution:**\n",
    "\n",
    "   $[C \\oplus D = \\{1,3, 6, 8\\}]$\n",
    "\n",
    "**Second Problem:**\n",
    "\n",
    "A\\B\n",
    "\n",
    "**Solution:**\n",
    "\n",
    "$[A \\setminus B = {1, 2, 3}]$\n",
    "\n",
    "\n",
    "**Third Problem:**\n",
    "\n",
    "B\\A\n",
    "\n",
    "**Solution:**\n",
    "\n",
    "$[B \\setminus A = \\{6, 7\\}]$\n",
    "\n",
    "**Fourth Problem:**\n",
    "\n",
    "$E \\oplus F$\n",
    "\n",
    "**Solution:**\n",
    "\n",
    "$(E \\oplus F)$ is (\\{1, 2, 4, 5, 6, 8, 9\\})\n",
    "\n",
    "\n"
   ]
  },
  {
   "cell_type": "markdown",
   "metadata": {},
   "source": [
    "# **Set Operations Problem 2:**"
   ]
  },
  {
   "cell_type": "code",
   "execution_count": 12,
   "metadata": {},
   "outputs": [
    {
     "name": "stdout",
     "output_type": "stream",
     "text": [
      "𝐂⊕𝐃 = {1, 3, 6, 8}\n",
      "𝐀∖𝐁 = {1, 2, 3}\n",
      "𝐁∖𝐀 = {6, 7}\n",
      "𝐄⊕𝐅 = {1, 2, 4, 5, 6, 8, 9}\n"
     ]
    }
   ],
   "source": [
    "\n",
    "U = {1,2,3,4,5}\n",
    "A = {1,2,3,4,5}\n",
    "B = {4,5,6,7}\n",
    "C = {5,6,7,8,9}\n",
    "D = {1,3,5,7,9}\n",
    "E = {2,4,6,8}\n",
    "F = {1,5,9}\n",
    "\n",
    "print(f\"𝐂⊕𝐃 = {C ^ D}\")\n",
    "print(f\"𝐀∖𝐁 = {A - B}\")\n",
    "print(f\"𝐁∖𝐀 = {B - A}\")\n",
    "print(f\"𝐄⊕𝐅 = {E ^ F}\")"
   ]
  },
  {
   "cell_type": "markdown",
   "metadata": {},
   "source": [
    "# **4. Finite Sets and The Counting Principles**\n",
    "# Problem 1:\n",
    "In a Survey of 120 People, it was found that:\n",
    "\n",
    "65 read Newsweek Magazine\n",
    "45 read Times Magazine\n",
    "42 read Fortune Magazine\n",
    "20 read Both Newsweek and Time\n",
    "25 read both Newsweek and Fortune\n",
    "15 read both Time and Fortune\n",
    "8 read all three magazines"
   ]
  },
  {
   "cell_type": "code",
   "execution_count": 15,
   "metadata": {},
   "outputs": [
    {
     "data": {
      "image/png": "[encoded data removed]",
      "text/plain": [
       "<Figure size 640x480 with 1 Axes>"
      ]
     },
     "metadata": {},
     "output_type": "display_data"
    },
    {
     "name": "stdout",
     "output_type": "stream",
     "text": [
      "Number of people who read at least one of the three magazines: 56\n",
      "Number of people who read exactly one magazine: 52\n"
     ]
    }
   ],
   "source": [
    "import matplotlib.pyplot as plt\n",
    "from matplotlib_venn import venn3\n",
    "\n",
    "total_people = 120\n",
    "read_newsweek = 65\n",
    "read_times = 45\n",
    "read_fortune = 42\n",
    "read_newsweek_times = 20\n",
    "read_newsweek_fortune = 25\n",
    "read_times_fortune = 15\n",
    "read_all_three = 8\n",
    "\n",
    "\n",
    "venn = venn3(subsets=(\n",
    "    read_newsweek - read_newsweek_times - read_newsweek_fortune + read_all_three,\n",
    "    read_times - read_newsweek_times - read_times_fortune + read_all_three,\n",
    "    read_newsweek_times - read_all_three,\n",
    "    read_fortune - read_newsweek_fortune - read_times_fortune + read_all_three,\n",
    "    read_newsweek_fortune - read_all_three,\n",
    "    read_times_fortune - read_all_three,\n",
    "    read_all_three\n",
    "), set_labels=('Newsweek', 'Times', 'Fortune'))\n",
    "\n",
    "\n",
    "plt.title(\"Venn Diagram of Magazine Readers\")\n",
    "plt.show()\n",
    "\n",
    "\n",
    "people_read_at_least_one = (\n",
    "    read_newsweek + read_times + read_fortune -\n",
    "    2 * (read_newsweek_times + read_newsweek_fortune + read_times_fortune) +\n",
    "    3 * read_all_three\n",
    ")\n",
    "\n",
    "people_read_exactly_one = (\n",
    "    read_newsweek - read_newsweek_times - read_newsweek_fortune +\n",
    "    read_times - read_times_fortune +\n",
    "    read_fortune - read_newsweek_fortune - read_times_fortune\n",
    ")\n",
    "\n",
    "print(\"Number of people who read at least one of the three magazines:\", people_read_at_least_one)\n",
    "print(\"Number of people who read exactly one magazine:\", people_read_exactly_one)\n"
   ]
  },
  {
   "cell_type": "markdown",
   "metadata": {},
   "source": [
    "# **Problem 2:**"
   ]
  },
  {
   "cell_type": "code",
   "execution_count": 16,
   "metadata": {},
   "outputs": [
    {
     "data": {
      "image/png": "[encoded data removed]",
      "text/plain": [
       "<Figure size 640x480 with 1 Axes>"
      ]
     },
     "metadata": {},
     "output_type": "display_data"
    },
    {
     "name": "stdout",
     "output_type": "stream",
     "text": [
      "Number of cars with W only: 5\n",
      "Number of cars with A only: 4\n",
      "Number of cars with R only: 2\n",
      "Number of cars with both R and W but not A: 1\n",
      "Number of cars with both A and R but not W: 6\n",
      "Number of cars with only one of the options: 11\n",
      "Number of cars with at least one option: 14\n",
      "Number of cars with none of the options: 11\n"
     ]
    }
   ],
   "source": [
    "import matplotlib.pyplot as plt\n",
    "from matplotlib_venn import venn3\n",
    "\n",
    "# Define the sizes of the sets\n",
    "n_A = 15\n",
    "n_R = 12\n",
    "n_W = 11\n",
    "n_A_and_W = 5\n",
    "n_A_and_R = 9\n",
    "n_R_and_W = 4\n",
    "n_all_three = 3\n",
    "\n",
    "# Define the total number of cars surveyed\n",
    "total_cars = 25\n",
    "\n",
    "# Create a Venn diagram\n",
    "venn = venn3(subsets=(\n",
    "    n_A - n_A_and_R - n_A_and_W + n_all_three,\n",
    "    n_R - n_A_and_R - n_R_and_W + n_all_three,\n",
    "    n_A_and_R - n_all_three,\n",
    "    n_W - n_A_and_W - n_R_and_W + n_all_three,\n",
    "    n_A_and_W - n_all_three,\n",
    "    n_R_and_W - n_all_three,\n",
    "    n_all_three\n",
    "), set_labels=('A', 'R', 'W'))\n",
    "\n",
    "# Display the Venn diagram\n",
    "plt.title(\"Venn Diagram of Car Options\")\n",
    "plt.show()\n",
    "\n",
    "# Calculate the number of cars with only one of the options\n",
    "cars_with_only_one_option = (\n",
    "    n_A - n_A_and_R - n_A_and_W + n_all_three +\n",
    "    n_R - n_A_and_R - n_R_and_W + n_all_three +\n",
    "    n_W - n_A_and_W - n_R_and_W + n_all_three\n",
    ")\n",
    "\n",
    "# Calculate the number of cars with at least one option\n",
    "cars_with_at_least_one_option = (\n",
    "    cars_with_only_one_option + n_all_three\n",
    ")\n",
    "\n",
    "# Calculate the number of cars with none of the options\n",
    "cars_with_none_of_the_options = total_cars - cars_with_at_least_one_option\n",
    "\n",
    "print(\"Number of cars with W only:\", n_W - n_R_and_W - n_A_and_W + n_all_three)\n",
    "print(\"Number of cars with A only:\", n_A - n_A_and_R - n_A_and_W + n_all_three)\n",
    "print(\"Number of cars with R only:\", n_R - n_A_and_R - n_R_and_W + n_all_three)\n",
    "print(\"Number of cars with both R and W but not A:\", n_R_and_W - n_all_three)\n",
    "print(\"Number of cars with both A and R but not W:\", n_A_and_R - n_all_three)\n",
    "print(\"Number of cars with only one of the options:\", cars_with_only_one_option)\n",
    "print(\"Number of cars with at least one option:\", cars_with_at_least_one_option)\n",
    "print(\"Number of cars with none of the options:\", cars_with_none_of_the_options)\n"
   ]
  }
 ],
 "metadata": {
  "kernelspec": {
   "display_name": "Python 3",
   "language": "python",
   "name": "python3"
  },
  "language_info": {
   "codemirror_mode": {
    "name": "ipython",
    "version": 3
   },
   "file_extension": ".py",
   "mimetype": "text/x-python",
   "name": "python",
   "nbconvert_exporter": "python",
   "pygments_lexer": "ipython3",
   "version": "3.11.5"
  },
  "orig_nbformat": 4
 },
 "nbformat": 4,
 "nbformat_minor": 2
}
